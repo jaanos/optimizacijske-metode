{
 "cells": [
  {
   "cell_type": "markdown",
   "metadata": {},
   "source": [
    "# Simpleksna metoda\n",
    "\n",
    "Sledeči program po korakih izvaja simpleksno metodo."
   ]
  },
  {
   "cell_type": "code",
   "execution_count": null,
   "metadata": {},
   "outputs": [],
   "source": [
    "def spremenljivke(n, zacetek=0, predpona=\"x\", ciljna=\"z\"):\n",
    "    \"\"\"\n",
    "    Nastavi želeno število spremenljivk s podano predpono.\n",
    "    \"\"\"\n",
    "    var(\" \".join(\"%s%d\" % (predpona, i) for i in range(zacetek, n+1)))\n",
    "    var(ciljna)\n",
    "\n",
    "def izpisi_enacbe(enacbe):\n",
    "    \"\"\"\n",
    "    Uredi in ustrezno izpiše enačbe.\n",
    "    \"\"\"\n",
    "    enacbe.sort(key=lambda e: str(e.lhs()))\n",
    "    for e in enacbe:\n",
    "        r = e.rhs()\n",
    "        c = r.subs([v == 0 for v in r.variables()])\n",
    "        rr = r - c\n",
    "        s = str(rr)\n",
    "        if c == 0:\n",
    "            c = znak = \"\"\n",
    "        elif s[0] == \"-\":\n",
    "            s = s[1:]\n",
    "            znak = \" - \"\n",
    "        else:\n",
    "            znak = \" + \"\n",
    "        print(\"%s == %s%s%s\" % (e.lhs(), c, znak, s))\n",
    "    print(\"\")\n",
    "    return enacbe\n",
    "\n",
    "def simpleksna_metoda(enacbe, *spremenljivke):\n",
    "    \"\"\"\n",
    "    Za podani začetni slovar izvaja podane zamenjave baznih in nebaznih spremenljivk.\n",
    "    \"\"\"\n",
    "    enacbe = izpisi_enacbe(enacbe)\n",
    "    for vstopna, izstopna in spremenljivke:\n",
    "        sol = next(e for e in enacbe if e.lhs() == izstopna).solve(vstopna)[0]\n",
    "        enacbe = izpisi_enacbe([sol if e.lhs() == izstopna else e.subs(sol) for e in enacbe])"
   ]
  },
  {
   "cell_type": "markdown",
   "metadata": {},
   "source": [
    "Funkcija `izpisi_enacbe` je pomožna. S funkcijo `spremenljivke` si pripravimo želeno število spremenljivk, funkcijo `simpleksna_metoda` pa uporabimo tako, da kot prvi argument podamo slovar enačb, za tem pa naštevamo pare vstopnih in izstopnih spremenljivk."
   ]
  },
  {
   "cell_type": "code",
   "execution_count": null,
   "metadata": {},
   "outputs": [],
   "source": [
    "spremenljivke(6)\n",
    "simpleksna_metoda([\n",
    "    x4 ==  5 - 2*x1 - 3*x2 -   x3,\n",
    "    x5 == 11 - 4*x1 - 3*x2 -   x3,\n",
    "    x6 ==  8 - 3*x1 - 4*x2 - 2*x3,\n",
    "    z  ==      5*x1 + 4*x2 + 3*x3\n",
    "], (x2, x4), (x3, x6))"
   ]
  },
  {
   "cell_type": "markdown",
   "metadata": {},
   "source": [
    "Preverite, ali so vaše rešitve pravilne. Prav tako lahko poizkušate, kaj se zgodi, če izberete napačno vstopno ali izstopno spremenljivko."
   ]
  },
  {
   "cell_type": "markdown",
   "metadata": {},
   "source": [
    "# Dvofazna metoda\n",
    "\n",
    "Pri prvi fazi dvofazne metode ugotavljamo dopustnost problema z n spremenljivkami tako, da rešujemo problem z $n+1$ spremenljivkami. Če je $n = 2$, si povezavo med problemoma lahko tudi predstavljamo."
   ]
  },
  {
   "cell_type": "code",
   "execution_count": null,
   "metadata": {},
   "outputs": [],
   "source": [
    "nastavitve = {'plot_points': 1000, 'incol': 'lightblue', 'bordercol': 'gray'}"
   ]
  },
  {
   "cell_type": "code",
   "execution_count": null,
   "metadata": {},
   "outputs": [],
   "source": [
    "spremenljivke(5, 0, ciljna=\"w z\")\n",
    "omejitve = [\n",
    "      x1 - x2 <= -1,\n",
    "     -x1 - x2 <= -3,\n",
    "    2*x1 + x2 <=  4\n",
    "]\n",
    "pozitivnost = [x1 >= 0, x2 >= 0, x0 >= 0]\n",
    "meje = [(x1, -0.1, 3), (x2, -0.1, 7), (x0, 0, 3)]"
   ]
  },
  {
   "cell_type": "code",
   "execution_count": null,
   "metadata": {},
   "outputs": [],
   "source": [
    "region_plot(omejitve + pozitivnost[:2], *meje[:2], **nastavitve)"
   ]
  },
  {
   "cell_type": "code",
   "execution_count": null,
   "metadata": {},
   "outputs": [],
   "source": [
    "implicit_plot3d(max_symbolic(*([e.lhs() - e.rhs() - x0 for e in omejitve] +\n",
    "                               [-e.lhs() for e in pozitivnost])), smooth=False, *meje)"
   ]
  },
  {
   "cell_type": "code",
   "execution_count": null,
   "metadata": {},
   "outputs": [],
   "source": [
    "simpleksna_metoda([x == e.rhs() + x0 - e.lhs() for x, e in zip([x3, x4, x5], omejitve)] +\n",
    "                  [w == -x0, z == x1 + x2], (x0, x4))"
   ]
  },
  {
   "cell_type": "markdown",
   "metadata": {},
   "source": [
    "Za katere vrednosti parametra $a$ je sledeči problem dopusten? Pomagajte si z `@interact`.\n",
    "\n",
    "\\begin{align*}\n",
    "\\min &\\ x + y \\\\\n",
    "x + y &\\ge a \\\\\n",
    "2x + y &\\ge 1 \\\\\n",
    "x + 2y &\\le 1 \\\\\n",
    "x, y &\\ge 0\n",
    "\\end{align*}"
   ]
  },
  {
   "cell_type": "code",
   "execution_count": null,
   "metadata": {},
   "outputs": [],
   "source": [
    "x, y = var(\"x y\")\n",
    "meje = [(x, 0, 2), (y, 0, 2)]\n",
    "\n",
    "@interact\n",
    "def _(a=slider(0, 2, default=0, step_size=0.01, label='$a$'),\n",
    "      k=slider(0, 2, default=1, step_size=0.01, label='$k$')):\n",
    "    show(region_plot([x + y >= a, 2*x + y >= 1, x + 2*y <= 1], *meje, **nastavitve) +\n",
    "         implicit_plot(x + y - k, *meje))"
   ]
  },
  {
   "cell_type": "markdown",
   "metadata": {},
   "source": [
    "# Končnost simpleksne metode\n",
    "\n",
    "Pri izbiri vstopnih in izstopnih spremenljivk upoštevaj naslednji pravili:\n",
    "\n",
    "1. Vstopna spremenljivka naj bo tista, ki ima največji koeficient v vrstici, ki ustreza funkcionalu $z$.\n",
    "2. Če imamo več kandidatov za izstopno spremenljivko, izberemo prvo po leksikografski ureditvi ($x1 < x2 < x3 < x4 < x5 < x6 < x7$).\n",
    "\n",
    "Kaj opaziš?"
   ]
  },
  {
   "cell_type": "code",
   "execution_count": null,
   "metadata": {},
   "outputs": [],
   "source": [
    "spremenljivke(7)\n",
    "simpleksna_metoda([\n",
    "    x5 == -1/2*x1 + 11/2*x2 + 5/2*x3 - 9*x4,\n",
    "    x6 == -1/2*x1 + 3/2*x2 + 1/2*x3 - x4,\n",
    "    x7 == 1 - x1,\n",
    "    z == 10*x1 - 57*x2 - 9*x3 - 24*x4\n",
    "], (x1, x5), (x2, x6))"
   ]
  },
  {
   "cell_type": "markdown",
   "metadata": {},
   "source": [
    "Zgornji linearni program reši še s pomočjo Blandovega pravila (tako vstopne kot izstopne spremenljivke izbiraš glede na leksikografsko ureditev)."
   ]
  },
  {
   "cell_type": "markdown",
   "metadata": {},
   "source": [
    "# Celoštevilsko linearno programiranje\n",
    "\n",
    "* Poiščite optimalno rešitev sledečega problema:\n",
    "\n",
    "\\begin{align*}\n",
    "\\max \\ 3x_1 + 4x_2 \\\\\n",
    "2x_1 + x_2 &\\le 6 \\\\\n",
    "2x_1 + 3x_2 &\\le 9 \\\\\n",
    "x_1, x_2 &\\ge 0\n",
    "\\end{align*}\n",
    "\n",
    "* Nato poiščite še optimalno rešitev v primeru, da sta $x_1$ in $x_2$ celoštevilski spremenljivki.\n",
    "\n",
    "* Nazadnje poiščite isto optimalno rešitev še na roke, torej tako, da ne izkoristite tega, da zna Sage reševati tudi celoštevilske probleme."
   ]
  },
  {
   "cell_type": "code",
   "execution_count": null,
   "metadata": {},
   "outputs": [],
   "source": [
    "def problem(integer=False):\n",
    "    p = MixedIntegerLinearProgram(maximization=True)\n",
    "    x = p.new_variable(integer=integer)\n",
    "    p.set_objective(3*x[1] + 4*x[2])\n",
    "    p.add_constraint(2*x[1] +   x[2] <= 6)\n",
    "    p.add_constraint(2*x[1] + 3*x[2] <= 9)\n",
    "    p.add_constraint(x[1] >= 0)\n",
    "    p.add_constraint(x[2] >= 0)\n",
    "    opt = p.solve()\n",
    "    return (opt, p.get_values(x))"
   ]
  },
  {
   "cell_type": "code",
   "execution_count": null,
   "metadata": {},
   "outputs": [],
   "source": [
    "# Linearni program\n",
    "problem(integer=False)"
   ]
  },
  {
   "cell_type": "code",
   "execution_count": null,
   "metadata": {},
   "outputs": [],
   "source": [
    "# Celoštevilski linearni program\n",
    "problem(integer=True)"
   ]
  },
  {
   "cell_type": "code",
   "execution_count": null,
   "metadata": {},
   "outputs": [],
   "source": [
    "spremenljivke(2)\n",
    "meje = [(x1, 0, 3), (x2, 0, 3)]\n",
    "tocke = sum(circle((i, j), 0.02, fill=True, rgbcolor='red') for i in range(meje[0][1], meje[0][2]+1)\n",
    "                                                            for j in range(meje[1][1], meje[1][2]+1))\n",
    "\n",
    "@interact\n",
    "def _(k=slider(0, 15, default=0, step_size=0.01, label='$k$')):\n",
    "    show(region_plot([2*x1 + x2 <= 6, 2*x1 + 3*x2 <=9], *meje, **nastavitve) + tocke +\n",
    "         implicit_plot(3*x1 + 4*x2 - k, *meje))"
   ]
  },
  {
   "cell_type": "markdown",
   "metadata": {},
   "source": [
    "# 0-1 nahrbtnik\n",
    "\n",
    "Rešite problem 0-1 nahrbtnika z volumnom 10 in naslednjimi predmeti:\n",
    "\n",
    "| volumen | cena |\n",
    "| ------- | ---- |\n",
    "| 2       | 30   |\n",
    "| 4       | 60   |\n",
    "| 6       | 50   |\n",
    "| 3       | 40   |"
   ]
  },
  {
   "cell_type": "code",
   "execution_count": null,
   "metadata": {},
   "outputs": [],
   "source": [
    "V = 10\n",
    "v = [2, 4, 6, 3]\n",
    "c = [30, 60, 50, 40]\n",
    "\n",
    "resitev = [Set()] # seznam optimalnih rešitev pri dani omejitvi volumna\n",
    "cena = [0] # seznam cen optimalnih rešitev pri dani omejitvi volumna\n",
    "for i in range(1, V+1):\n",
    "    r = resitev[-1]\n",
    "    t = cena[-1]\n",
    "    for j, (vj, cj) in enumerate(zip(v, c)):\n",
    "        if vj > i or j in resitev[i - vj]:\n",
    "            continue\n",
    "        nova = cena[i - vj] + cj\n",
    "        if nova > t:\n",
    "            r = resitev[i - vj] | Set([j])\n",
    "            t = nova\n",
    "    resitev.append(r)\n",
    "    cena.append(t)\n",
    "    print(\"Volumen %d, rešitev %s, cena %d\" % (i, r, t))"
   ]
  }
 ],
 "metadata": {
  "kernelspec": {
   "display_name": "SageMath 8.3",
   "language": "",
   "name": "sagemath"
  }
 },
 "nbformat": 4,
 "nbformat_minor": 2
}
