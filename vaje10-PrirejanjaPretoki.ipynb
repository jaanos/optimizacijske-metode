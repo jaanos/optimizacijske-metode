{
 "cells": [
  {
   "cell_type": "markdown",
   "metadata": {},
   "source": [
    "# Prirejanja v dvodelnih grafih"
   ]
  },
  {
   "cell_type": "markdown",
   "metadata": {},
   "source": [
    "Poiščimo maksimalno prirejanje v neuteženem dvodelnem grafu."
   ]
  },
  {
   "cell_type": "code",
   "execution_count": null,
   "metadata": {},
   "outputs": [],
   "source": [
    "G1 = Graph([(1, 6), (1, 9), (2, 6), (3, 8), (4, 7), (5, 6), (5, 8), (5, 10)])\n",
    "G1.matching()"
   ]
  },
  {
   "cell_type": "markdown",
   "metadata": {},
   "source": [
    "Z matriko `M` podamo uteži na povezavah v uteženem polnem dvodelnem grafu. Poiskali bomo najtežje popolno prirejanje."
   ]
  },
  {
   "cell_type": "code",
   "execution_count": null,
   "metadata": {},
   "outputs": [],
   "source": [
    "M = Matrix([[58, 60, 57, 60],\n",
    "            [66, 68, 65, 66],\n",
    "            [56, 57, 55, 54],\n",
    "            [51, 52, 53, 51]])\n",
    "G2 = Graph([(('r', i), ('c', j), w) for i, r in enumerate(M) for j, w in enumerate(r)])\n",
    "G2.matching(use_edge_labels=True)"
   ]
  },
  {
   "cell_type": "markdown",
   "metadata": {},
   "source": [
    "Najlažje popolno prirejanje v dvodelnem grafu bomo poiskali s pomočjo celoštevilskega linearnega programiranja."
   ]
  },
  {
   "cell_type": "code",
   "execution_count": null,
   "metadata": {},
   "outputs": [],
   "source": [
    "p = MixedIntegerLinearProgram(maximization=False)\n",
    "x = p.new_variable(binary=True)\n",
    "p.set_objective(sum(x[i, j]*w for i, r in enumerate(M) for j, w in enumerate(r)))\n",
    "for i in range(M.ncols()):\n",
    "    p.add_constraint(sum(x[i, j] for j in range(M.nrows())) == 1)\n",
    "    p.add_constraint(sum(x[j, i] for j in range(M.nrows())) == 1)\n",
    "p.solve()"
   ]
  },
  {
   "cell_type": "code",
   "execution_count": null,
   "metadata": {},
   "outputs": [],
   "source": [
    "{k: M[k] for k, v in p.get_values(x).items() if v == 1}"
   ]
  },
  {
   "cell_type": "markdown",
   "metadata": {},
   "source": [
    "# Pretoki in prerezi\n",
    "\n",
    "Podajmo usmerjen graf z uteženimi povezavami."
   ]
  },
  {
   "cell_type": "code",
   "execution_count": null,
   "metadata": {},
   "outputs": [],
   "source": [
    "G3 = DiGraph([(1, 2, 3), (1, 3, 2), (2, 3, 1), (2, 4, 4), (3, 5, 1), (4, 5, 2)])\n",
    "G3.plot(edge_labels=True, save_pos=True)"
   ]
  },
  {
   "cell_type": "markdown",
   "metadata": {},
   "source": [
    "Poiščimo največji pretok od vozlišča 1 do vozlišča 5."
   ]
  },
  {
   "cell_type": "code",
   "execution_count": null,
   "metadata": {},
   "outputs": [],
   "source": [
    "G3.flow(1, 5)"
   ]
  },
  {
   "cell_type": "markdown",
   "metadata": {},
   "source": [
    "Zahtevamo lahko tudi, naj nam metoda `flow` vrne graf, ki predstavlja največji pretok."
   ]
  },
  {
   "cell_type": "code",
   "execution_count": null,
   "metadata": {},
   "outputs": [],
   "source": [
    "f, F = G3.flow(1, 5, value_only=False)\n",
    "F.plot(edge_labels=True)"
   ]
  },
  {
   "cell_type": "markdown",
   "metadata": {},
   "source": [
    "Poiščimo še minimalni prerez - to je ravno množica zasičenih povezav, katerih začetno vozlišče je po nezasičenih povezavah dosegljivo iz izvora."
   ]
  },
  {
   "cell_type": "code",
   "execution_count": null,
   "metadata": {},
   "outputs": [],
   "source": [
    "cut = [(u, v) for u, v, w in G3.edges() if F.has_edge(u, v) and F.edge_label(u, v) == w]\n",
    "H = G3.copy()\n",
    "H.delete_edges(cut)\n",
    "S = H.connected_component_containing_vertex(1)\n",
    "min_cut = [(u, v, G3.edge_label(u, v)) for u, v in cut if u in S]\n",
    "min_cut"
   ]
  }
 ],
 "metadata": {
  "kernelspec": {
   "display_name": "SageMath 8.3",
   "language": "",
   "name": "sagemath"
  },
  "language_info": {
   "codemirror_mode": {
    "name": "ipython",
    "version": 2
   },
   "file_extension": ".py",
   "mimetype": "text/x-python",
   "name": "python",
   "nbconvert_exporter": "python",
   "pygments_lexer": "ipython2",
   "version": "2.7.15"
  }
 },
 "nbformat": 4,
 "nbformat_minor": 2
}
