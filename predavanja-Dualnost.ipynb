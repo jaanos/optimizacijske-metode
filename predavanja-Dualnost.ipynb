{
 "cells": [
  {
   "cell_type": "markdown",
   "metadata": {
    "slideshow": {
     "slide_type": "slide"
    }
   },
   "source": [
    "# Simpleksna metoda\n",
    "\n",
    "Sledeči program po korakih izvaja simpleksno metodo."
   ]
  },
  {
   "cell_type": "code",
   "execution_count": null,
   "metadata": {
    "slideshow": {
     "slide_type": "fragment"
    }
   },
   "outputs": [],
   "source": [
    "class DrugaFaza:\n",
    "    \"\"\"\n",
    "    Razred, ki označuje prehod simpleksne metode v drugo fazo.\n",
    "    \"\"\"\n",
    "    def __init__(self, x0=var(\"x0\"), w=var(\"w\")):\n",
    "        \"\"\"\n",
    "        Konstruktor za specifikacijo pomožne spremenljivke in pomožnega funkcionala.\n",
    "        \"\"\"\n",
    "        self.x0 = x0\n",
    "        self.w = w\n",
    "\n",
    "def spremenljivke(n, zacetek=0, predpona=\"x\", ciljna=\"z\"):\n",
    "    \"\"\"\n",
    "    Nastavi želeno število spremenljivk s podano predpono.\n",
    "    \"\"\"\n",
    "    var(\" \".join(\"%s%d\" % (predpona, i) for i in range(zacetek, n+1)))\n",
    "    var(ciljna)\n",
    "\n",
    "def izpisi_enacbe(enacbe):\n",
    "    \"\"\"\n",
    "    Uredi in ustrezno izpiše enačbe.\n",
    "    \"\"\"\n",
    "    enacbe.sort(key=lambda e: str(e.lhs()))\n",
    "    for e in enacbe:\n",
    "        r = e.rhs()\n",
    "        c = r.subs([v == 0 for v in r.variables()])\n",
    "        rr = r - c\n",
    "        s = str(rr)\n",
    "        if c == 0:\n",
    "            c = znak = \"\"\n",
    "        elif s[0] == \"-\":\n",
    "            s = s[1:]\n",
    "            znak = \" - \"\n",
    "        else:\n",
    "            znak = \" + \"\n",
    "        print(\"%s == %s%s%s\" % (e.lhs(), c, znak, s))\n",
    "    print(\"\")\n",
    "    return enacbe\n",
    "\n",
    "def simpleksna_metoda(enacbe, *spremenljivke):\n",
    "    \"\"\"\n",
    "    Za podani začetni slovar izvaja podane zamenjave baznih in nebaznih spremenljivk.\n",
    "    \"\"\"\n",
    "    enacbe = izpisi_enacbe(enacbe)\n",
    "    for spr in spremenljivke:\n",
    "        if isinstance(spr, DrugaFaza):\n",
    "            enacbe = izpisi_enacbe([e.subs(spr.x0 == 0) for e in enacbe if e.lhs() != spr.w])\n",
    "        else:\n",
    "            vstopna, izstopna = spr\n",
    "            sol = next(e for e in enacbe if e.lhs() == izstopna).solve(vstopna)[0]\n",
    "            enacbe = izpisi_enacbe([sol if e.lhs() == izstopna else e.subs(sol) for e in enacbe])"
   ]
  },
  {
   "cell_type": "markdown",
   "metadata": {
    "slideshow": {
     "slide_type": "subslide"
    }
   },
   "source": [
    "Funkcija `izpisi_enacbe` je pomožna. S funkcijo `spremenljivke` si pripravimo želeno število spremenljivk, funkcijo `simpleksna_metoda` pa uporabimo tako, da kot prvi argument podamo slovar enačb, za tem pa naštevamo pare vstopnih in izstopnih spremenljivk. Poleg tega lahko podamo tudi instanco razreda `DrugaFaza`, ki iz slovarja odstrani pomožno spremenljivko (privzeto `x0`) in pomožni funkcional (privzeto `w`)."
   ]
  },
  {
   "cell_type": "markdown",
   "metadata": {
    "slideshow": {
     "slide_type": "slide"
    }
   },
   "source": [
    "## Reševanje linearnega programa\n",
    "\n",
    "Poiščimo rešitev spodnjega linearnega programa.\n",
    "$$\n",
    "\\begin{aligned}\n",
    "\\max &\\ & 10 x_1 + 15 x_2 + 12 x_3 \\\\[1ex]\n",
    "\\text{p.p.} && x_1 + x_2 + x_3 &\\le 50 \\\\\n",
    "&& 3 x_1 + 4 x_2 + 5 x_3 &\\le 250 \\\\\n",
    "&& 3 x_1 + 5 x_2 + 4 x_3 &\\le 300 \\\\\n",
    "&& x_1, x_2, x_3 &\\ge 0\n",
    "\\end{aligned}\n",
    "$$"
   ]
  },
  {
   "cell_type": "code",
   "execution_count": 13,
   "metadata": {
    "slideshow": {
     "slide_type": "fragment"
    }
   },
   "outputs": [
    {
     "name": "stdout",
     "output_type": "stream",
     "text": [
      "x4 == 50 - x1 - x2 - x3\n",
      "x5 == 250 - 3*x1 - 4*x2 - 5*x3\n",
      "x6 == 300 - 3*x1 - 5*x2 - 4*x3\n",
      "z == 10*x1 + 15*x2 + 12*x3\n",
      "\n",
      "x1 == 50 - x2 - x3 - x4\n",
      "x5 == 100 - x2 - 2*x3 + 3*x4\n",
      "x6 == 150 - 2*x2 - x3 + 3*x4\n",
      "z == 500 + 5*x2 + 2*x3 - 10*x4\n",
      "\n",
      "x2 == 50 - x1 - x3 - x4\n",
      "x5 == 50 + x1 - x3 + 4*x4\n",
      "x6 == 50 + 2*x1 + x3 + 5*x4\n",
      "z == 750 - 5*x1 - 3*x3 - 15*x4\n",
      "\n"
     ]
    }
   ],
   "source": [
    "spremenljivke(6)\n",
    "simpleksna_metoda([\n",
    "    x4 == 50 - x1 - x2 - x3,\n",
    "    x5 == 250 - 3*x1 - 4*x2 - 5*x3,\n",
    "    x6 == 300 - 3*x1 - 5*x2 - 4*x3,\n",
    "    z  == 10*x1 + 15*x2 + 12*x3\n",
    "], (x1, x4), (x2, x1))"
   ]
  },
  {
   "cell_type": "markdown",
   "metadata": {
    "slideshow": {
     "slide_type": "slide"
    }
   },
   "source": [
    "## Reševanje duala linearnega programa\n",
    "\n",
    "Poiščimo še optimalno rešitev duala prejšnjega linearnega programa.\n",
    "$$\n",
    "\\begin{aligned}\n",
    "\\min &\\ & 50 y_4 + 250 y_5 + 300 y_6 \\\\[1ex]\n",
    "\\text{p.p.} && y_4 + 3 y_5 + 3 y_6 &\\ge 10 \\\\\n",
    "&& y_4 + 4 y_5 + 5 y_6 &\\ge 15 \\\\\n",
    "&& y_4 + 5 y_5 + 4 y_6 &\\ge 12 \\\\\n",
    "&& y_4, y_5, y_6 &\\ge 0\n",
    "\\end{aligned}\n",
    "$$"
   ]
  },
  {
   "cell_type": "code",
   "execution_count": 16,
   "metadata": {
    "slideshow": {
     "slide_type": "fragment"
    }
   },
   "outputs": [
    {
     "name": "stdout",
     "output_type": "stream",
     "text": [
      "w == -y0\n",
      "y1 == -10 + y0 + y4 + 3*y5 + 3*y6\n",
      "y2 == -15 + y0 + y4 + 4*y5 + 5*y6\n",
      "y3 == -12 + y0 + y4 + 5*y5 + 4*y6\n",
      "z == -50*y4 - 250*y5 - 300*y6\n",
      "\n",
      "w == -15 - y2 + y4 + 4*y5 + 5*y6\n",
      "y0 == 15 + y2 - y4 - 4*y5 - 5*y6\n",
      "y1 == 5 + y2 - y5 - 2*y6\n",
      "y3 == 3 + y2 + y5 - y6\n",
      "z == -50*y4 - 250*y5 - 300*y6\n",
      "\n",
      "w == -y0\n",
      "y1 == 5 + y2 - y5 - 2*y6\n",
      "y3 == 3 + y2 + y5 - y6\n",
      "y4 == 15 - y0 + y2 - 4*y5 - 5*y6\n",
      "z == -750 + 50*y0 - 50*y2 - 50*y5 - 50*y6\n",
      "\n",
      "y1 == 5 + y2 - y5 - 2*y6\n",
      "y3 == 3 + y2 + y5 - y6\n",
      "y4 == 15 + y2 - 4*y5 - 5*y6\n",
      "z == -750 - 50*y2 - 50*y5 - 50*y6\n",
      "\n"
     ]
    }
   ],
   "source": [
    "spremenljivke(6, 0, predpona=\"y\", ciljna=\"w z\")\n",
    "simpleksna_metoda([\n",
    "    y1 == -10 + y0 + y4 + 3*y5 + 3*y6,\n",
    "    y2 == -15 + y0 + y4 + 4*y5 + 5*y6,\n",
    "    y3 == -12 + y0 + y4 + 5*y5 + 4*y6,\n",
    "    w  ==     - y0,\n",
    "    z  == -50*y4 - 250*y5 - 300*y6,\n",
    "], (y0, y2), (y4, y0), DrugaFaza(y0))"
   ]
  }
 ],
 "metadata": {
  "kernelspec": {
   "display_name": "SageMath 9.2.rc2",
   "language": "sage",
   "name": "sagemath"
  },
  "language_info": {
   "codemirror_mode": {
    "name": "ipython",
    "version": 3
   },
   "file_extension": ".py",
   "mimetype": "text/x-python",
   "name": "python",
   "nbconvert_exporter": "python",
   "pygments_lexer": "ipython3",
   "version": "3.8.10"
  }
 },
 "nbformat": 4,
 "nbformat_minor": 4
}
