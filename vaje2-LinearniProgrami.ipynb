{
 "cells": [
  {
   "cell_type": "markdown",
   "metadata": {
    "slideshow": {
     "slide_type": "slide"
    }
   },
   "source": [
    "# Linearni programi in Sage"
   ]
  },
  {
   "cell_type": "markdown",
   "metadata": {
    "slideshow": {
     "slide_type": "fragment"
    }
   },
   "source": [
    "## Razporeditev sredstev\n",
    "\n",
    "Podjetje ima tri oddelke, ki poslujejo z: 30% dobičkom, 20% dobičkom in brez dobička. Med oddelke želimo razporediti 40.000 evrov sredstev, pri čemer mora 1. oddelek prejeti vsaj 8.000 evrov, 2. oddelek vsaj 10.000 evrov in 3. oddelek največ dvakrat toliko kot 2. oddelek. Kako naj razporedimo sredstva, da bomo dobili čimveč dobička?"
   ]
  },
  {
   "cell_type": "code",
   "execution_count": 1,
   "metadata": {
    "slideshow": {
     "slide_type": "subslide"
    }
   },
   "outputs": [
    {
     "data": {
      "text/plain": [
       "11.0"
      ]
     },
     "execution_count": 1,
     "metadata": {},
     "output_type": "execute_result"
    }
   ],
   "source": [
    "p = MixedIntegerLinearProgram(maximization=True)\n",
    "x = p.new_variable(real=True)\n",
    "p.set_objective(0.3 * x[1] + 0.2 * x[2])\n",
    "p.add_constraint(x[1] >= 8)\n",
    "p.add_constraint(x[2] >= 10)\n",
    "p.add_constraint(x[3] >= 0)\n",
    "p.add_constraint(x[3] <= 2 * x[2])\n",
    "p.add_constraint(x[1] + x[2] + x[3] <= 40)\n",
    "p.solve()"
   ]
  },
  {
   "cell_type": "code",
   "execution_count": 2,
   "metadata": {
    "slideshow": {
     "slide_type": "fragment"
    }
   },
   "outputs": [
    {
     "data": {
      "text/plain": [
       "{1: 30.0, 2: 10.0, 3: 0.0}"
      ]
     },
     "execution_count": 2,
     "metadata": {},
     "output_type": "execute_result"
    }
   ],
   "source": [
    "p.get_values(x)"
   ]
  },
  {
   "cell_type": "markdown",
   "metadata": {
    "slideshow": {
     "slide_type": "slide"
    }
   },
   "source": [
    "## Grafično reševanje\n",
    "\n",
    "Grafično in z `MixedIntegerLinearProgram` rešite linearni problem, podan z\n",
    "\n",
    "\\begin{align*}\n",
    "\\min x + y \\\\\n",
    "x + 2y &\\ge 1 \\\\\n",
    "2x + y &\\ge 1 \\\\\n",
    "2x - y &\\le 1\n",
    "\\end{align*}"
   ]
  },
  {
   "cell_type": "code",
   "execution_count": 3,
   "metadata": {
    "slideshow": {
     "slide_type": "subslide"
    }
   },
   "outputs": [],
   "source": [
    "nastavitve = {'plot_points': 1000, 'incol': 'lightblue', 'bordercol': 'gray'}"
   ]
  },
  {
   "cell_type": "code",
   "execution_count": 4,
   "metadata": {
    "slideshow": {
     "slide_type": "fragment"
    }
   },
   "outputs": [
    {
     "data": {
      "application/vnd.jupyter.widget-view+json": {
       "model_id": "0dd735c28068482da2b1382bf866f0c5",
       "version_major": 2,
       "version_minor": 0
      },
      "text/plain": [
       "Interactive function <function _ at 0x7fde996a65e0> with 1 widget\n",
       "  k: TransformFloatSlider(value=0.5, descrip…"
      ]
     },
     "metadata": {},
     "output_type": "display_data"
    }
   ],
   "source": [
    "x, y = var('x y')\n",
    "meje = [(x, 0, 1), (y, 0, 1)]\n",
    "rp = region_plot([x + 2*y >= 1, 2*x + y >= 1, 2*x - y <= 1], *meje, **nastavitve)\n",
    "\n",
    "@interact\n",
    "def _(k=slider(0, 3, default=0.5, step_size=0.01, label='$k$')):\n",
    "    show(rp + implicit_plot(x + y - k, *meje))"
   ]
  },
  {
   "cell_type": "code",
   "execution_count": 5,
   "metadata": {
    "slideshow": {
     "slide_type": "subslide"
    }
   },
   "outputs": [
    {
     "data": {
      "text/plain": [
       "0.6666666666666667"
      ]
     },
     "execution_count": 5,
     "metadata": {},
     "output_type": "execute_result"
    }
   ],
   "source": [
    "p = MixedIntegerLinearProgram(maximization=False)\n",
    "v = p.new_variable(real=True)\n",
    "p.set_objective(v[x] + v[y])\n",
    "p.add_constraint(v[x] + 2 * v[y] >= 1)\n",
    "p.add_constraint(2 * v[x] + v[y] >= 1)\n",
    "p.add_constraint(2 * v[x] - v[y] <= 1)\n",
    "p.solve()"
   ]
  },
  {
   "cell_type": "code",
   "execution_count": 6,
   "metadata": {
    "slideshow": {
     "slide_type": "fragment"
    }
   },
   "outputs": [
    {
     "data": {
      "text/plain": [
       "{x: 0.3333333333333333, y: 0.33333333333333337}"
      ]
     },
     "execution_count": 6,
     "metadata": {},
     "output_type": "execute_result"
    }
   ],
   "source": [
    "p.get_values(v)"
   ]
  },
  {
   "cell_type": "markdown",
   "metadata": {
    "slideshow": {
     "slide_type": "slide"
    }
   },
   "source": [
    "## Proizvodnja fotoaparatov\n",
    "\n",
    "Fotografski zanesenjak Niko N. je tik pred prazniki ustanovil s.p., v katerem bo proizvajal dve vrsti fotoaparatov: Minimum 3 in Optimum 7. Za vsak aparat Minimum 3 potrebuje 3 ure dela in material, vreden 70 evrov, za vsak Optimum 7 pa za 180 evrov materiala in 5 ur dela. Optimum 7 lahko proda za 300 evrov, Minimum 3 pa za 130 evrov. Katere fotoaparate naj naredi Niko, če ima 2100 evrov začetnega kapitala, s katerim lahko nakupi material, do praznikov pa ima le še 71 ur časa?"
   ]
  },
  {
   "cell_type": "code",
   "execution_count": 7,
   "metadata": {
    "slideshow": {
     "slide_type": "subslide"
    }
   },
   "outputs": [
    {
     "data": {
      "text/plain": [
       "1560.0"
      ]
     },
     "execution_count": 7,
     "metadata": {},
     "output_type": "execute_result"
    }
   ],
   "source": [
    "p = MixedIntegerLinearProgram(maximization=True)\n",
    "v = p.new_variable(real=True)\n",
    "p.set_objective((300 - 180) * v['opt'] + (130 - 70) * v['min'])\n",
    "p.add_constraint(5 * v['opt'] + 3 * v['min'] <= 71)\n",
    "p.add_constraint(180 * v['opt'] + 70 * v['min'] <= 2100)\n",
    "p.solve()"
   ]
  },
  {
   "cell_type": "code",
   "execution_count": 8,
   "metadata": {
    "slideshow": {
     "slide_type": "fragment"
    }
   },
   "outputs": [
    {
     "data": {
      "text/plain": [
       "{'opt': 7.000000000000002, 'min': 11.999999999999998}"
      ]
     },
     "execution_count": 8,
     "metadata": {},
     "output_type": "execute_result"
    }
   ],
   "source": [
    "p.get_values(v)"
   ]
  },
  {
   "cell_type": "markdown",
   "metadata": {
    "slideshow": {
     "slide_type": "slide"
    }
   },
   "source": [
    "## Analiza proizvodnje fotoaparatov\n",
    "\n",
    "Nikov problem poskusite rešiti še grafično. Ko ga rešite, spreminjajte parametre in opazujte, kako se s tem spreminja množica dopustnih rešitev ter naklon grafa kriterijske funkcije."
   ]
  },
  {
   "cell_type": "code",
   "execution_count": 9,
   "metadata": {
    "slideshow": {
     "slide_type": "subslide"
    }
   },
   "outputs": [
    {
     "data": {
      "application/vnd.jupyter.widget-view+json": {
       "model_id": "7bbe0d45f9784e5690809a00448aadb2",
       "version_major": 2,
       "version_minor": 0
      },
      "text/plain": [
       "Manual interactive function <function _ at 0x7fde964ef310> with 9 widgets\n",
       "  optimumUre: TransformFloatSlider(v…"
      ]
     },
     "metadata": {},
     "output_type": "display_data"
    }
   ],
   "source": [
    "x, y = var('x y')\n",
    "meje = [(x, 0, 20), (y, 0, 30)]\n",
    "\n",
    "@interact\n",
    "def _(optimumUre=slider(0, 10, default=5, step_size=0.01),\n",
    "      minimumUre=slider(0, 10, default=3, step_size=0.01),\n",
    "      optimumStrosek=slider(0, 300, default=180, step_size=0.5),\n",
    "      minimumStrosek=slider(0, 300, default=70, step_size=0.5),\n",
    "      optimumCena=slider(0, 1000, default=300, step_size=2),\n",
    "      minimumCena=slider(0, 1000, default=130, step_size=2),\n",
    "      kapital=slider(0, 5000, default=2100, step_size=10),\n",
    "      cas=slider(0, 200, default=71, step_size=0.5),\n",
    "      dobicek=slider(0, 3000, default=1560, step_size=5),\n",
    "      auto_update=False):\n",
    "    show(region_plot([optimumUre * x + minimumUre * y <= cas, optimumStrosek * x + minimumStrosek * y <= kapital],\n",
    "                     *meje, **nastavitve) +\n",
    "         implicit_plot((optimumCena - optimumStrosek) * x + (minimumCena - minimumStrosek) * y - dobicek, *meje) +\n",
    "         text(\"\"\"\n",
    "max %.2f opt + %.2f min  p.p.\n",
    "        %.2f opt + %.2f min <= %.2f\n",
    "        %.2f opt + %.2f min <= %.2f\n",
    "              \"\"\" % (optimumCena - optimumStrosek, minimumCena - minimumStrosek,\n",
    "                     optimumUre, minimumUre, cas, optimumStrosek, minimumStrosek, kapital),\n",
    "              (3, 29), axes=False, horizontal_alignment='left'))"
   ]
  },
  {
   "cell_type": "markdown",
   "metadata": {
    "slideshow": {
     "slide_type": "slide"
    }
   },
   "source": [
    "## Sestavljanje jedilnika\n",
    "\n",
    "Z jedilnikom, sestavljenim iz živil v spodnji tabeli želimo zadostiti dnevnim potrebam po vsaj 2000 kCal energije, 55 g beljakovin in 800 mg kalcija. Kaj naj pojemo, da bomo za živila porabili čim manj denarja, hkrati pa ne bomo jedli preveč enolične hrane (glej zadnji stolpec)?\n",
    "\n",
    "| živilo    | porcija    | energija (kCal) | beljakovine (g) | kalcij (mg) | cena (€) | max. št. porcij |\n",
    "| --------- | --------   | --------------- | --------------- | ----------- | -------- | --------------- |\n",
    "| kaša      | 28 g       | 110             | 4               | 2           | 3        | 4               |\n",
    "| piščanec\t| 100 g      | 205             | 32              | 12          | 24       | 3               |\n",
    "| jajca     | 2 kom.     | 160             | 13              | 54          | 13       | 2               |\n",
    "| mleko     | 237 cm$^3$ | 160             | 8               | 285         | 9        | 8               |\n",
    "| kremšnita | 170 g\t     | 420             | 4               | 22          | 20       | 2               |\n",
    "| pasulj    | 260 g      | 260             | 14              | 80          | 19       | 2               |"
   ]
  },
  {
   "cell_type": "code",
   "execution_count": 10,
   "metadata": {
    "slideshow": {
     "slide_type": "subslide"
    }
   },
   "outputs": [
    {
     "data": {
      "text/plain": [
       "92.5"
      ]
     },
     "execution_count": 10,
     "metadata": {},
     "output_type": "execute_result"
    }
   ],
   "source": [
    "p = MixedIntegerLinearProgram(maximization=False)\n",
    "v = p.new_variable(real=True)\n",
    "p.set_objective(3 * v['kaša'] + 24 * v['piščanec'] + 13 * v['jajca'] +\n",
    "                9 * v['mleko'] + 20 * v['kremšnita'] + 19 * v['pasulj'])\n",
    "p.add_constraint(110 * v['kaša'] + 205 * v['piščanec'] + 160 * v['jajca'] +\n",
    "                 160 * v['mleko'] + 420 * v['kremšnita'] + 260 * v['pasulj'] >= 2000)\n",
    "p.add_constraint(4 * v['kaša'] + 32 * v['piščanec'] + 13 * v['jajca'] +\n",
    "                 8 * v['mleko'] + 4 * v['kremšnita'] + 14 * v['pasulj'] >= 55)\n",
    "p.add_constraint(2 * v['kaša'] + 12 * v['piščanec'] + 54 * v['jajca'] +\n",
    "                 285 * v['mleko'] + 22 * v['kremšnita'] + 80 * v['pasulj'] >= 800)\n",
    "p.add_constraint(0 <= v['kaša'] <= 4)\n",
    "p.add_constraint(0 <= v['piščanec'] <= 3)\n",
    "p.add_constraint(0 <= v['jajca'] <= 2)\n",
    "p.add_constraint(0 <= v['mleko'] <= 8)\n",
    "p.add_constraint(0 <= v['kremšnita'] <= 2)\n",
    "p.add_constraint(0 <= v['pasulj'] <= 2)\n",
    "p.solve()"
   ]
  },
  {
   "cell_type": "code",
   "execution_count": 11,
   "metadata": {
    "slideshow": {
     "slide_type": "fragment"
    }
   },
   "outputs": [
    {
     "data": {
      "text/plain": [
       "{'kaša': 4.0,\n",
       " 'piščanec': 0.0,\n",
       " 'jajca': 0.0,\n",
       " 'mleko': 4.499999999999999,\n",
       " 'kremšnita': 2.0000000000000004,\n",
       " 'pasulj': 0.0}"
      ]
     },
     "execution_count": 11,
     "metadata": {},
     "output_type": "execute_result"
    }
   ],
   "source": [
    "p.get_values(v)"
   ]
  },
  {
   "cell_type": "markdown",
   "metadata": {
    "slideshow": {
     "slide_type": "slide"
    }
   },
   "source": [
    "## Največja včrtana krožnica\n",
    "\n",
    "Poiščite največjo krožnico, vsebovano v večkotniku, podanem z enačbami:\n",
    "\n",
    "\\begin{align*}\n",
    "-x + y &\\le 4 \\\\\n",
    "y &\\le 5 \\\\\n",
    "2x + y &\\le 15 \\\\\n",
    "{x \\over 2} + y &\\ge 1\n",
    "\\end{align*}\n",
    "\n",
    "V pomoč naj vam bo, da je točka $x$ od hiperravnine z enačbo $a^\\top x = b$ oddaljena ${{b - a^\\top x} \\over {\\lVert a \\rVert}}$."
   ]
  },
  {
   "cell_type": "code",
   "execution_count": 12,
   "metadata": {
    "slideshow": {
     "slide_type": "subslide"
    }
   },
   "outputs": [
    {
     "data": {
      "text/plain": [
       "2.6781472845828778"
      ]
     },
     "execution_count": 12,
     "metadata": {},
     "output_type": "execute_result"
    }
   ],
   "source": [
    "p = MixedIntegerLinearProgram(maximization=True)\n",
    "v = p.new_variable(real=True)\n",
    "r, x, y = (v[i] for i in \"rxy\")\n",
    "p.set_objective(r)\n",
    "p.add_constraint(r * sqrt(2) <= 4 + x - y)\n",
    "p.add_constraint(r * 1 <= 5 - y)\n",
    "p.add_constraint(r * sqrt(5) <= 15 - 2*x - y)\n",
    "p.add_constraint(r * sqrt(5)/2 <= -1 + x/2 + y)\n",
    "p.add_constraint(r >= 0)\n",
    "p.solve()"
   ]
  },
  {
   "cell_type": "code",
   "execution_count": 13,
   "metadata": {
    "slideshow": {
     "slide_type": "fragment"
    }
   },
   "outputs": [
    {
     "data": {
      "text/plain": [
       "{'r': 2.6781472845828778, 'x': 3.3448139512495434, 'y': 2.3218527154171227}"
      ]
     },
     "execution_count": 13,
     "metadata": {},
     "output_type": "execute_result"
    }
   ],
   "source": [
    "res = p.get_values(v)\n",
    "res"
   ]
  },
  {
   "cell_type": "code",
   "execution_count": 14,
   "metadata": {
    "slideshow": {
     "slide_type": "subslide"
    }
   },
   "outputs": [
    {
     "data": {
      "image/png": "[encoded data removed]",
      "text/plain": [
       "Graphics object consisting of 7 graphics primitives"
      ]
     },
     "execution_count": 14,
     "metadata": {},
     "output_type": "execute_result"
    }
   ],
   "source": [
    "x, y = var('x y')\n",
    "meje = [(x, -5, 10), (y, -5, 10)]\n",
    "sum((implicit_plot(eq, color=col, *meje) for eq, col in zip([-x + y - 4, y - 5, 2*x + y - 15, x/2 + y - 1], rainbow(4))),\n",
    "   region_plot([-x + y <= 4, y <= 5, 2*x + y <= 15, x/2 + y >= 1], *meje, **nastavitve) +\n",
    "   circle((res['x'], res['y']), res['r'], color='black'))"
   ]
  },
  {
   "cell_type": "markdown",
   "metadata": {
    "slideshow": {
     "slide_type": "slide"
    }
   },
   "source": [
    "## Naftna rafinerija\n",
    "\n",
    "Rafinerija iz nafte tipov 1 in 2 meša bencin in kurilno olje. Na voljo ima 5000 sodčkov nafte tipa 1 s kvaliteto 10 in 10000 sodčkov nafte tipa 2 s kvaliteto 5. Povprečna kvaliteta bencina mora biti vsaj 8, povprečna kvaliteta kurilnega olja pa vsaj 6. Za vsak dolar reklame za kurilno olje proda 10 sodčkov kurilnega olja po ceni 20 dolarjev za sodček, za vsak dolar reklame za bencin pa 5 sodčkov bencina po ceni 25 dolarjev za sodček. Kako naj nameša nafto, da bo iztržila čimveč dobička?\n",
    "\n",
    "* $x_{1,b}$ ... število sodčkov tipa 1 za bencin\n",
    "* $x_{2,b}$ ... število sodčkov tipa 2 za bencin\n",
    "* $x_{1,k}$ ... število sodčkov tipa 1 za kurilno olje\n",
    "* $x_{2,k}$ ... število sodčkov tipa 2 za kurilno olje\n",
    "\n",
    "* Povprečna kvaliteta bencina: ${10 x_{1,b} + 5 x_{2,b} \\over x_{1,b} + x_{2,b}} \\le 8$\n",
    "* Povprečna kvaliteta kurlinega olja: ${10 x_{1,k} + 5 x_{2,k} \\over x_{1,k} + x_{2,k}} \\le 6$"
   ]
  },
  {
   "cell_type": "code",
   "execution_count": 15,
   "metadata": {
    "slideshow": {
     "slide_type": "subslide"
    }
   },
   "outputs": [
    {
     "data": {
      "text/plain": [
       "323000.0"
      ]
     },
     "execution_count": 15,
     "metadata": {},
     "output_type": "execute_result"
    }
   ],
   "source": [
    "p = MixedIntegerLinearProgram(maximization=True)\n",
    "bencin = p.new_variable(real=True)\n",
    "kurilno_olje = p.new_variable(real=True)\n",
    "p.set_objective((25 - 1/5) * (bencin[1] + bencin[2]) + (20 - 1/10) * (kurilno_olje[1] + kurilno_olje[2]))\n",
    "p.add_constraint(bencin[1] + kurilno_olje[1] <= 5000)\n",
    "p.add_constraint(bencin[2] + kurilno_olje[2] <= 10000)\n",
    "p.add_constraint(10 * bencin[1] + 5 * bencin[2] >= 8 * (bencin[1] + bencin[2]))\n",
    "p.add_constraint(10 * kurilno_olje[1] + 5 * kurilno_olje[2] >= 6 * (kurilno_olje[1] + kurilno_olje[2]))\n",
    "p.solve()"
   ]
  },
  {
   "cell_type": "code",
   "execution_count": 16,
   "metadata": {
    "slideshow": {
     "slide_type": "fragment"
    }
   },
   "outputs": [
    {
     "data": {
      "text/plain": [
       "{1: 3000.0000000000005, 2: 2000.0000000000002}"
      ]
     },
     "execution_count": 16,
     "metadata": {},
     "output_type": "execute_result"
    }
   ],
   "source": [
    "p.get_values(bencin)"
   ]
  },
  {
   "cell_type": "code",
   "execution_count": 17,
   "metadata": {
    "slideshow": {
     "slide_type": "fragment"
    }
   },
   "outputs": [
    {
     "data": {
      "text/plain": [
       "{1: 1999.9999999999993, 2: 7999.999999999999}"
      ]
     },
     "execution_count": 17,
     "metadata": {},
     "output_type": "execute_result"
    }
   ],
   "source": [
    "p.get_values(kurilno_olje)"
   ]
  },
  {
   "cell_type": "markdown",
   "metadata": {
    "slideshow": {
     "slide_type": "slide"
    }
   },
   "source": [
    "## Mešanje tonikov\n",
    "\n",
    "Na voljo imamo zdravilne tonike A, B in C z vsebnostjo zdravilnh učinkovin I, II in III, podano v spodnji tabeli. Z mešanjem tonikov želimo dobiti napitek, ki bo imel vsebnosti učinkovin, kot so navedene v zadnji vrstici tabele. Natančnih vrednosti ni moč doseči, zato za mero kvalitete mešanice vzamemo po absolutni vrednosti največje odstopanje posamezne učinkovine od predpisane vrednosti (v mešanici, ki vsebuje enak delež vsakega tonika, je ta vrednost enaka 2/3). Kakšni so deleži v najboljši mešanici?\n",
    "\n",
    "| tonik  |  I | II | III |\n",
    "| ------ | -- | -- | --- |\n",
    "| A      | 10 |  2 |   5 |\n",
    "| B      | 15 |  4 |   2 |\n",
    "| C      | 20 |  3 |   3 |\n",
    "| iskani | 15 |  3 |   4 |\n",
    "\n",
    "* $x_1, x_2, x_3 \\ge 0$\n",
    "* $x_1 + x_2 + x_3 = 1$\n",
    "* $\\min \\max\\{|10x_1 + 15x_2 + 20x_3 - 15|, |2x_1 + 4x_2 + 3x_3 - 3|, |5x_1 + 2x_2 + 3x_3 - 4|\\}$"
   ]
  },
  {
   "cell_type": "code",
   "execution_count": 18,
   "metadata": {
    "slideshow": {
     "slide_type": "subslide"
    }
   },
   "outputs": [
    {
     "data": {
      "text/plain": [
       "(0.2777777777777777,\n",
       " {'a': 0.4444444444444446,\n",
       "  'b': 0.1666666666666669,\n",
       "  'c': 0.3888888888888886,\n",
       "  'z': 1.0})"
      ]
     },
     "execution_count": 18,
     "metadata": {},
     "output_type": "execute_result"
    }
   ],
   "source": [
    "spremenljivke = 'abcz'\n",
    "koeficienti = [[10, 15, 20, -15],\n",
    "                [2,  4,  3,  -3],\n",
    "                [5,  2,  3,  -4]]\n",
    "\n",
    "def izraz(koef, znak, v):\n",
    "    return sum(znak * x * v[k] for x, k in zip(koef, spremenljivke))\n",
    "               \n",
    "def resitev(koef, znak):\n",
    "    p = MixedIntegerLinearProgram(maximization=False)\n",
    "    v = p.new_variable(real=True)\n",
    "    ciljna = izraz(koef, znak, v)\n",
    "    p.set_objective(ciljna)\n",
    "    p.add_constraint(sum(v[k] for k in spremenljivke[:3]) == 1)\n",
    "    p.add_constraint(v[spremenljivke[-1]] == 1)\n",
    "    for k in spremenljivke:\n",
    "        p.add_constraint(v[k] >= 0)\n",
    "    for z in [-1, 1]:\n",
    "        for r in koeficienti:\n",
    "            p.add_constraint(ciljna >= izraz(r, z, v))\n",
    "    try:\n",
    "        opt = p.solve()\n",
    "    except sage.numerical.mip.MIPSolverException:\n",
    "        return (Infinity, None)\n",
    "    return (opt, p.get_values(v))\n",
    "\n",
    "min((resitev(koef, znak) for znak in [-1, 1] for koef in koeficienti), key=lambda t: t[0])"
   ]
  },
  {
   "cell_type": "code",
   "execution_count": 19,
   "metadata": {
    "slideshow": {
     "slide_type": "subslide"
    }
   },
   "outputs": [
    {
     "data": {
      "application/vnd.jupyter.widget-view+json": {
       "model_id": "ef84afa082554990bb636999d8eb0278",
       "version_major": 2,
       "version_minor": 0
      },
      "text/plain": [
       "Interactive function <function _ at 0x7fde963ba1f0> with 1 widget\n",
       "  k: TransformFloatSlider(value=1.0, descrip…"
      ]
     },
     "metadata": {},
     "output_type": "display_data"
    }
   ],
   "source": [
    "a, b, c, z = spr = var(' '.join(spremenljivke))\n",
    "razlike = [sum(k*x for k, x in zip(koef, spr)).subs(z == 1, c == 1 - a - b) for koef in koeficienti]\n",
    "meje = [(a, 0, 1), (b, 0, 1)]\n",
    "nast = {'plot_points': 200, 'bordercol': 'gray'}\n",
    "\n",
    "pogoji = [[a + b <= 1] + [znak * ciljna >= z * r for z in [-1, 1] for r in razlike if (z, r) != (znak, ciljna)]\n",
    "          for znak in [-1, 1] for ciljna in razlike]\n",
    "obmocja = sum(region_plot(pogoj, incol=barva, *meje, **nast) for pogoj, barva in zip(pogoji, rainbow(6)))\n",
    "\n",
    "@interact\n",
    "def _(k=slider(0, 1, default=1, step_size=0.01)):\n",
    "    warnings.filterwarnings(\"ignore\")\n",
    "    show(obmocja + region_plot([znak * ciljna <= k for znak in [-1, 1] for ciljna in razlike],\n",
    "                               incol='black', alpha=0.5, bordercol='magenta', borderwidth=3, plot_points=200, *meje))"
   ]
  }
 ],
 "metadata": {
  "celltoolbar": "Slideshow",
  "kernelspec": {
   "display_name": "SageMath 9.2.rc2",
   "language": "sage",
   "name": "sagemath"
  },
  "language_info": {
   "codemirror_mode": {
    "name": "ipython",
    "version": 3
   },
   "file_extension": ".py",
   "mimetype": "text/x-python",
   "name": "python",
   "nbconvert_exporter": "python",
   "pygments_lexer": "ipython3",
   "version": "3.8.5"
  }
 },
 "nbformat": 4,
 "nbformat_minor": 2
}
